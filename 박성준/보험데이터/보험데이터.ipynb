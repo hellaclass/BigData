{
 "cells": [
  {
   "cell_type": "markdown",
   "metadata": {},
   "source": [
    "# 보험관련 데이터베이스 설계"
   ]
  },
  {
   "cell_type": "markdown",
   "metadata": {},
   "source": [
    "# 보험 관련 데이터를 중 무엇을 수집하고, 어떻게 가공할 지\n",
    "\n",
    "#### 수집해야 할 raw data 목록 (건수당)\n",
    "- 유저 아이디\n",
    "- 배달가게 상호명\n",
    "- 배달출발지(가게) ==> 동주소(도로명주소)\n",
    "- 배달도착지(주문자 주거지) ==> 동주소까지 (개인정보 X)\n",
    "- 배달시간(픽업완료~배달완료)\n",
    "- 위험감지횟수\n",
    "\n",
    "#### 수집해야 할 가공 data 목록 (건수당)\n",
    "- 배달거리 (가게 ~ 주거지) ==> 동주소를 좌표로 변환 / 거리측정 (홍연하)\n",
    "- 평균배달시간 (1km 단위로 계산, 배달거리와 배달시간을 나누기)\n",
    "- 위험군 분류 (고,중,저)\n",
    "- 의심사례분류(연속 5회 이상 이상치가 하나도 나오지 않는 유저를 의심유저 재측정 함수에 집어넣기 위해)"
   ]
  },
  {
   "cell_type": "markdown",
   "metadata": {},
   "source": []
  }
 ],
 "metadata": {
  "kernelspec": {
   "display_name": "pydatavenv",
   "language": "python",
   "name": "pydatavenv"
  },
  "language_info": {
   "codemirror_mode": {
    "name": "ipython",
    "version": 3
   },
   "file_extension": ".py",
   "mimetype": "text/x-python",
   "name": "python",
   "nbconvert_exporter": "python",
   "pygments_lexer": "ipython3",
   "version": "3.7.9"
  }
 },
 "nbformat": 4,
 "nbformat_minor": 4
}
