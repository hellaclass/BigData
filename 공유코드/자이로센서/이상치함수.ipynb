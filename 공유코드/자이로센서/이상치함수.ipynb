{
 "cells": [
  {
   "cell_type": "markdown",
   "metadata": {},
   "source": [
    "# 실시간 이상치 감지 (라즈베리파이 내 구현)\n",
    "\n",
    "\n",
    "### 문제는 실시간으로 잡아내는 것을 언제 시작하고, 언제 계산해서 끝낼 지\n",
    "- 문제는 시작 시점을 시작할 수 있는가? --> 픽업완료부터 측정 / 배달완료까지 측정\n",
    "- 그럼 배달완료에서 측정이 종료될 때 데이터베이스로 넘어가도록 (이거는 주호나 재환이가 하겠지?)\n",
    "- 그럼 빅데이터는? -> count만 되도록 만들어 두자"
   ]
  },
  {
   "cell_type": "code",
   "execution_count": 2,
   "metadata": {},
   "outputs": [
    {
     "ename": "NameError",
     "evalue": "name 'count_x' is not defined",
     "output_type": "error",
     "traceback": [
      "\u001b[1;31m---------------------------------------------------------------------------\u001b[0m",
      "\u001b[1;31mNameError\u001b[0m                                 Traceback (most recent call last)",
      "\u001b[1;32m<ipython-input-2-a6791fb899fd>\u001b[0m in \u001b[0;36m<module>\u001b[1;34m\u001b[0m\n\u001b[0;32m     46\u001b[0m \u001b[1;33m\u001b[0m\u001b[0m\n\u001b[0;32m     47\u001b[0m \u001b[1;31m# 배달완료 후 마지막에 count를 더해야 함\u001b[0m\u001b[1;33m\u001b[0m\u001b[1;33m\u001b[0m\u001b[1;33m\u001b[0m\u001b[0m\n\u001b[1;32m---> 48\u001b[1;33m \u001b[0mcount\u001b[0m \u001b[1;33m=\u001b[0m \u001b[0mcount_x\u001b[0m \u001b[1;33m+\u001b[0m \u001b[0mcount_y\u001b[0m\u001b[1;33m\u001b[0m\u001b[1;33m\u001b[0m\u001b[0m\n\u001b[0m",
      "\u001b[1;31mNameError\u001b[0m: name 'count_x' is not defined"
     ]
    }
   ],
   "source": [
    "# 슈방 한 번 해봅시다.\n",
    "\n",
    "# 일단 정규화용 평균찾기 ==> 기본값은 데이터를 수집한 것을 계속해서 받아다가 전체 평균을 내봅시다.\n",
    "X_mean = -14.06441677067501\n",
    "X_std = 33.97611978794694\n",
    "Y_mean = 17.314758936075098\n",
    "Y_std = 22.79429532634784\n",
    "Z_mean = -109.86382844702727\n",
    "Z_std = 85.63936548508705\n",
    "\n",
    "\n",
    "# 나중에 라즈베리파이에 적용할 때는 함수형태가 아닌 그냥 코드로 집어넣으면 된다!!\n",
    "def X_detect_outlier(sample1, sample2): \n",
    "    \n",
    "    count_x = 0\n",
    "    \n",
    "    # sample1은 직전값  / sample2는 현재값\n",
    "    pre_time = (sample1 - X_mean) / X_std\n",
    "    real_time = (sample2 - X_mean) / X_std\n",
    "    \n",
    "    detect = abs(real_time - pre_time)\n",
    "    \n",
    "    if detect > 0.3 :\n",
    "        print(\"alert\")\n",
    "        count_x += 1\n",
    "    else :\n",
    "        print(\"안전운전하세요.\")\n",
    "        \n",
    "def Y_detect_outlier(sample1, sample2): \n",
    "    \n",
    "    count_y = 0\n",
    "    \n",
    "    # sample1은 직전값  / sample2는 현재값\n",
    "    pre_time = (sample1 - Y_mean) / Y_std\n",
    "    real_time = (sample2 - Y_mean) / Y_std\n",
    "    \n",
    "    detect = abs(real_time - pre_time)\n",
    "    \n",
    "    if detect > 0.3 :\n",
    "        print(\"alert\")\n",
    "        count_y += 1\n",
    "    else :\n",
    "        print(\"안전운전하세요.\")\n",
    "\n",
    "        \n",
    "# 배달완료 후 마지막에 count를 더해야 함\n",
    "count = count_x + count_y"
   ]
  },
  {
   "cell_type": "code",
   "execution_count": null,
   "metadata": {},
   "outputs": [],
   "source": []
  }
 ],
 "metadata": {
  "kernelspec": {
   "display_name": "pydatavenv",
   "language": "python",
   "name": "pydatavenv"
  },
  "language_info": {
   "codemirror_mode": {
    "name": "ipython",
    "version": 3
   },
   "file_extension": ".py",
   "mimetype": "text/x-python",
   "name": "python",
   "nbconvert_exporter": "python",
   "pygments_lexer": "ipython3",
   "version": "3.7.9"
  }
 },
 "nbformat": 4,
 "nbformat_minor": 4
}
